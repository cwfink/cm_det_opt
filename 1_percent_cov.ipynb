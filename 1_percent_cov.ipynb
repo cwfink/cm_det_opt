{
 "cells": [
  {
   "cell_type": "code",
   "execution_count": 1,
   "metadata": {},
   "outputs": [],
   "source": [
    "import numpy as np\n",
    "import darkopt as dark # can import either entire package\n",
    "from darkopt import materials, optimize # or import submodules seperately \n",
    "import darkopt.plotting as plot\n",
    "import matplotlib.pyplot as plt"
   ]
  },
  {
   "cell_type": "markdown",
   "metadata": {},
   "source": [
    "### Optimize 1% coverage device\n",
    "\n",
    "optimize both for the effective overlap efficiency factor of 0.13 and 0.45. Ideally, the design parameters should not vary significantly between the two"
   ]
  },
  {
   "cell_type": "code",
   "execution_count": 6,
   "metadata": {},
   "outputs": [
    {
     "name": "stdout",
     "output_type": "stream",
     "text": [
      "Effective W/Al volume = 0.13\n",
      "resolution: 121.8 [meV]\n",
      "TES Length = 48.8 [μm]\n",
      "Overlap Legth = 13.2 [μm]\n",
      "Overlap Width = 26.3 [μm]\n",
      "Fin Length = 57.7 [μm]\n",
      "Fin Height = 0.6 [μm]\n",
      "N Fins = 4\n",
      "Total Al surface coverage = 1.000 [%]\n",
      "percent active Al = 0.681 [%]\n",
      "percent passive Al = 0.319 [%]\n",
      "Absolute phonon collection energy efficiency = 21.20 [%]\n",
      "Number of TESs = 134\n",
      "Rn = 350.0 [mOhms]\n",
      "Close Packed: False\n",
      "Phase margin = 681.1 [%] (phase_sep_length  - tes_length )/tes_length )\n",
      "---------------------------------\n",
      "\n",
      "\n",
      "Effective W/Al volume = 0.45\n",
      "resolution: 175.9 [meV]\n",
      "TES Length = 49.9 [μm]\n",
      "Overlap Legth = 10.2 [μm]\n",
      "Overlap Width = 20.4 [μm]\n",
      "Fin Length = 56.7 [μm]\n",
      "Fin Height = 0.6 [μm]\n",
      "N Fins = 4\n",
      "Total Al surface coverage = 1.000 [%]\n",
      "percent active Al = 0.679 [%]\n",
      "percent passive Al = 0.321 [%]\n",
      "Absolute phonon collection energy efficiency = 18.54 [%]\n",
      "Number of TESs = 137\n",
      "Rn = 350.0 [mOhms]\n",
      "Close Packed: False\n",
      "Phase margin = 552.1 [%] (phase_sep_length  - tes_length )/tes_length )\n",
      "---------------------------------\n",
      "\n",
      "\n"
     ]
    }
   ],
   "source": [
    "desired_coverage = 0.01\n",
    "\n",
    "l_tes0 = 100e-6\n",
    "l_tes_bnds = [5e-6, 300e-6]\n",
    "l_overlap0 = 10e-6\n",
    "l_overlap_bnds = [5e-06, 40e-6]\n",
    "l_fin0 = 100e-6\n",
    "l_fin_bnds = [25e-6, 500e-6]\n",
    "n_fin0 = 4\n",
    "n_fin_bnds = [2,6]\n",
    "\n",
    "\n",
    "res_n = 350e-3\n",
    "rp = 2e-3\n",
    "ahole = 4.9e-11\n",
    "\n",
    "w_overlap0 = 15e-6\n",
    "\n",
    "w_overlap0 = 'circle'\n",
    "w_overlap_bnds = [5e-6, 40e-6]\n",
    "bounds=[l_tes_bnds,l_overlap_bnds ,l_fin_bnds , n_fin_bnds]\n",
    "fix_w_overlap=True\n",
    "\n",
    "veff_WAloverlap=.13 # theoretical\n",
    "print(f'Effective W/Al volume = {veff_WAloverlap}')\n",
    "det_opt_13, eres, params = optimize.optimize_detector( tes_length0=l_tes0,\n",
    "                                                    tes_l_overlap0=l_overlap0,\n",
    "                                                    l_fin0=l_fin0,\n",
    "                                                    n_fin0=n_fin0,\n",
    "                                                    per_Al = desired_coverage,   \n",
    "                                                    fix_w_overlap=fix_w_overlap,\n",
    "                                                    w_overlap = w_overlap0,\n",
    "                                                    #tes_width=w,\n",
    "                                                    abs_type=\"Si\", \n",
    "                                                    abs_shape=\"square\", \n",
    "                                                    abs_height=1e-3, \n",
    "                                                    abs_width=1e-2, \n",
    "                                                    w_safety=2e-3,\n",
    "                                                    sigma=220000000.0,\n",
    "                                                    rn=res_n,\n",
    "                                                    rp=rp,\n",
    "                                                    L_tot=5e-08,\n",
    "                                                    ahole=ahole, \n",
    "                                                    con_type='ellipse',\n",
    "                                                    veff_WAloverlap=veff_WAloverlap,\n",
    "                                                     bounds = bounds, \n",
    "                                                    w_overlap_bounds=w_overlap_bnds)\n",
    "\n",
    "veff_WAloverlap=.45 # measured\n",
    "print(f'Effective W/Al volume = {veff_WAloverlap}')\n",
    "det_opt_45, eres, params = optimize.optimize_detector( tes_length0=l_tes0,\n",
    "                                                    tes_l_overlap0=l_overlap0,\n",
    "                                                    l_fin0=l_fin0,\n",
    "                                                    n_fin0=n_fin0,\n",
    "                                                    per_Al = desired_coverage,   \n",
    "                                                    fix_w_overlap=fix_w_overlap,\n",
    "                                                      w_overlap = w_overlap0,\n",
    "                                                    #tes_width=w,\n",
    "                                                    abs_type=\"Si\", \n",
    "                                                    abs_shape=\"square\", \n",
    "                                                    abs_height=1e-3, \n",
    "                                                    abs_width=1e-2, \n",
    "                                                    w_safety=2e-3,\n",
    "                                                    sigma=220000000.0,\n",
    "                                                    rn=res_n,\n",
    "                                                    rp=rp,\n",
    "                                                    L_tot=5e-08,\n",
    "                                                    ahole=ahole, \n",
    "                                                    con_type='ellipse',\n",
    "                                                    veff_WAloverlap=veff_WAloverlap,\n",
    "                                                    bounds = bounds, \n",
    "                                                    w_overlap_bounds=w_overlap_bnds)\n"
   ]
  },
  {
   "cell_type": "markdown",
   "metadata": {},
   "source": [
    "We can see that the TES length and Fin length are largely unchanged between the two designs, only the overlap region changes, which makes sense"
   ]
  },
  {
   "cell_type": "markdown",
   "metadata": {},
   "source": [
    "We now want to create a detector with a combination of the parameters found above"
   ]
  },
  {
   "cell_type": "code",
   "execution_count": 5,
   "metadata": {},
   "outputs": [
    {
     "name": "stdout",
     "output_type": "stream",
     "text": [
      "Effective W/Al volume = 0.13\n",
      "resolution: 121.8 [meV]\n",
      "TES Length = 48.8 [μm]\n",
      "Overlap Legth = 13.2 [μm]\n",
      "Overlap Width = 26.3 [μm]\n",
      "Fin Length = 57.7 [μm]\n",
      "Fin Height = 0.6 [μm]\n",
      "N Fins = 4\n",
      "Total Al surface coverage = 1.000 [%]\n",
      "percent active Al = 0.681 [%]\n",
      "percent passive Al = 0.319 [%]\n",
      "Absolute phonon collection energy efficiency = 21.20 [%]\n",
      "Number of TESs = 134\n",
      "Rn = 350.0 [mOhms]\n",
      "Close Packed: False\n",
      "Phase margin = 681.1 [%] (phase_sep_length  - tes_length )/tes_length )\n",
      "---------------------------------\n",
      "\n",
      "\n",
      "Effective W/Al volume = 0.13\n",
      "resolution: 127.0 [meV]\n",
      "TES Length = 51.4 [μm]\n",
      "Overlap Legth = 24.2 [μm]\n",
      "Overlap Width = 48.5 [μm]\n",
      "Fin Length = 61.3 [μm]\n",
      "Fin Height = 0.6 [μm]\n",
      "N Fins = 4\n",
      "Total Al surface coverage = 1.001 [%]\n",
      "percent active Al = 0.826 [%]\n",
      "percent passive Al = 0.175 [%]\n",
      "Absolute phonon collection energy efficiency = 30.78 [%]\n",
      "Number of TESs = 142\n",
      "Rn = 350.0 [mOhms]\n",
      "QETs are NOT equally spaced on surface\n",
      "Phase margin = 461.3 [%] (phase_sep_length  - tes_length )/tes_length )\n",
      "---------------------------------\n",
      "\n",
      "\n"
     ]
    }
   ],
   "source": [
    "desired_coverage = 0.01\n",
    "\n",
    "l_tes0 = 100e-6\n",
    "l_tes_bnds = [5e-6, 300e-6]\n",
    "l_overlap0 = 10e-6\n",
    "l_overlap_bnds = [5e-06, 40e-6]\n",
    "l_fin0 = 100e-6\n",
    "l_fin_bnds = [25e-6, 500e-6]\n",
    "n_fin0 = 4\n",
    "n_fin_bnds = [2,6]\n",
    "\n",
    "\n",
    "res_n = 350e-3\n",
    "rp = 2e-3\n",
    "ahole = 4.9e-11\n",
    "\n",
    "w_overlap0 = 15e-6\n",
    "\n",
    "w_overlap0 = 'circle'\n",
    "w_overlap_bnds = [5e-6, 40e-6]\n",
    "bounds=[l_tes_bnds,l_overlap_bnds ,l_fin_bnds , n_fin_bnds]\n",
    "fix_w_overlap=True\n",
    "\n",
    "veff_WAloverlap=.13 # theoretical\n",
    "print(f'Effective W/Al volume = {veff_WAloverlap}')\n",
    "det_opt_13_equal, eres, params = optimize.optimize_detector( tes_length0=l_tes0,\n",
    "                                                    tes_l_overlap0=l_overlap0,\n",
    "                                                    l_fin0=l_fin0,\n",
    "                                                    n_fin0=n_fin0,\n",
    "                                                    per_Al = desired_coverage,   \n",
    "                                                    fix_w_overlap=fix_w_overlap,\n",
    "                                                    w_overlap = w_overlap0,\n",
    "                                                    #tes_width=w,\n",
    "                                                    abs_type=\"Si\", \n",
    "                                                    abs_shape=\"square\", \n",
    "                                                    abs_height=1e-3, \n",
    "                                                    abs_width=1e-2, \n",
    "                                                    w_safety=2e-3,\n",
    "                                                    sigma=220000000.0,\n",
    "                                                    rn=res_n,\n",
    "                                                    rp=rp,\n",
    "                                                    L_tot=5e-08,\n",
    "                                                    ahole=ahole, \n",
    "                                                    con_type='ellipse',\n",
    "                                                    veff_WAloverlap=veff_WAloverlap,\n",
    "                                                     bounds = bounds, \n",
    "                                                    w_overlap_bounds=w_overlap_bnds)\n",
    "print(f'Effective W/Al volume = {veff_WAloverlap}')\n",
    "\n",
    "equal_spaced = False\n",
    "det_opt_13_dense, eres, params = optimize.optimize_detector( tes_length0=l_tes0,\n",
    "                                                    tes_l_overlap0=l_overlap0,\n",
    "                                                    l_fin0=l_fin0,\n",
    "                                                    n_fin0=n_fin0,\n",
    "                                                    per_Al = desired_coverage,   \n",
    "                                                    fix_w_overlap=fix_w_overlap,\n",
    "                                                    w_overlap = w_overlap0,\n",
    "                                                    #tes_width=w,\n",
    "                                                    abs_type=\"Si\", \n",
    "                                                    abs_shape=\"square\", \n",
    "                                                    abs_height=1e-3, \n",
    "                                                    abs_width=1e-2, \n",
    "                                                    w_safety=3e-3,\n",
    "                                                    sigma=220000000.0,\n",
    "                                                    rn=res_n,\n",
    "                                                    rp=rp,\n",
    "                                                    L_tot=5e-08,\n",
    "                                                    ahole=ahole, \n",
    "                                                    con_type='ellipse',\n",
    "                                                    veff_WAloverlap=veff_WAloverlap,\n",
    "                                                    bounds = bounds, \n",
    "                                                    w_overlap_bounds=w_overlap_bnds,\n",
    "                                                    equal_spaced=equal_spaced )\n",
    "\n",
    "\n"
   ]
  },
  {
   "cell_type": "code",
   "execution_count": 16,
   "metadata": {},
   "outputs": [
    {
     "name": "stdout",
     "output_type": "stream",
     "text": [
      "resolution: 124.2 [meV]\n",
      "TES Length = 49.4 [μm]\n",
      "Overlap Legth = 11.2 [μm]\n",
      "Overlap Width = 22.4 [μm]\n",
      "Fin Length = 57.2 [μm]\n",
      "Fin Height = 0.6 [μm]\n",
      "N Fins = 4\n",
      "Total Al surface coverage = 1.003 [%]\n",
      "percent active Al = 0.682 [%]\n",
      "percent passive Al = 0.320 [%]\n",
      "Phonon collection time constant = 36.50 [μs]\n",
      "Absolute phonon collection energy efficiency = 19.55 [%]\n",
      "Number of TESs = 136\n",
      "Rn = 350.0 [mOhms]\n",
      "Close Packed: False\n"
     ]
    }
   ],
   "source": [
    "absorber = det_opt_13._absorber\n",
    "qet = det_opt_13.QET\n",
    "tes = det_opt_13.QET.TES\n",
    "det = det_opt_13\n",
    "\n",
    "n_fin = tes.n_fin\n",
    "l = (det_opt_13.QET.TES.l + det_opt_45.QET.TES.l)/2\n",
    "w = (det_opt_13.QET.TES.w + det_opt_45.QET.TES.w)/2\n",
    "l_overlap = det_opt_13.QET.TES.l_overlap*1/3 + det_opt_45.QET.TES.l_overlap*2/3\n",
    "w_overlap = 'circle'\n",
    "l_fin = (det_opt_13.QET.l_fin + det_opt_45.QET.l_fin)/2\n",
    "\n",
    "abso1 = dark.Absorber(name=absorber._name, shape=absorber._shape,\n",
    "                height=absorber._h, width=absorber._width,\n",
    "                w_safety=absorber._w_safety)\n",
    "\n",
    "tes1 = dark.TES(length=l, width=tes.w, l_overlap=l_overlap, n_fin=n_fin, sigma=tes.sigma,\n",
    "           rn=tes.rn, rsh=tes.rsh, rp=tes.rp, L_tot=tes.L, tload=tes.tload, \n",
    "           w_overlap=w_overlap, w_fin_con=tes.w_fin_con, h=tes.h, \n",
    "           veff_WAloverlap=tes.veff_WAloverlap, veff_WFinCon=tes.veff_WFinCon, \n",
    "           con_type=tes.con_type, material=tes.material, operating_point=tes.fOp,\n",
    "           alpha=tes.alpha, beta=tes.beta, wempty_fin=tes.wempty_fin, \n",
    "           wempty_tes=tes.wempty_tes, n=tes.n, Qp=tes.Qp, t_mc=tes.t_mc,\n",
    "           w_overlap_stem=tes.w_overlap_stem,  l_c=tes.l_c, \n",
    "           l_overlap_pre_ellipse=tes.l_overlap_pre_ellipse)\n",
    "\n",
    "qet1 = dark.QET(l_fin=l_fin, h_fin=qet.h_fin, TES=tes1, ahole=qet.ahole, ePQP=qet.ePQP,\n",
    "           eff_absb=qet.eff_absb, nhole_per_fin=qet.nhole_per_fin, \n",
    "           type_qp_eff=qet.type_qp_eff)\n",
    "\n",
    "det1 = dark.Detector(abso1, qet1, n_channel=det._n_channel, w_rail_main=det.w_rail_main, \n",
    "                w_railQET=det.w_railQET, bonding_pad_area=det.bonding_pad_area,\n",
    "                freqs=det.freqs )\n",
    "\n",
    "print(f\"resolution: {det1.calc_res()*1e3:.1f} [meV]\")\n",
    "print(f\"TES Length = {det1.QET.TES.l*1e6:.1f} [μm]\")\n",
    "print(f\"Overlap Legth = {det1.QET.TES.l_overlap*1e6:.1f} [μm]\")\n",
    "print(f\"Overlap Width = {det1.QET.TES.w_overlap*1e6:.1f} [μm]\")\n",
    "print(f\"Fin Length = {det1.QET.l_fin*1e6:.1f} [μm]\")\n",
    "print(f\"Fin Height = {det1.QET.h_fin*1e6:.1f} [μm]\")\n",
    "print(f\"N Fins = {det1.QET.TES.n_fin}\")\n",
    "print(f'Total Al surface coverage = {det1._fSA_qpabsorb*100:.3f} [%]')\n",
    "print(f'percent active Al = {det1.fSA_active*100:.3f} [%]')\n",
    "print(f'percent passive Al = {det1.fSA_passive*100:.3f} [%]')\n",
    "print(f'Phonon collection time constant = {det1._t_pabsb*1e6:.2f} [μs]')\n",
    "print(f'Absolute phonon collection energy efficiency = {det1._eEabsb*100:.2f} [%]')\n",
    "print(f'Number of TESs = {det1.QET.TES.nTES}')\n",
    "print(f'Rn = {det1.QET.TES.rn*1e3:.1f} [mOhms]')\n",
    "print(f'Close Packed: {det1._close_packed}')\n",
    "    "
   ]
  },
  {
   "cell_type": "code",
   "execution_count": 15,
   "metadata": {},
   "outputs": [
    {
     "ename": "AttributeError",
     "evalue": "'Detector' object has no attribute 'tau_collect'",
     "output_type": "error",
     "traceback": [
      "\u001b[0;31m---------------------------------------------------------------------------\u001b[0m",
      "\u001b[0;31mAttributeError\u001b[0m                            Traceback (most recent call last)",
      "\u001b[0;32m<ipython-input-15-227e63839158>\u001b[0m in \u001b[0;36m<module>\u001b[0;34m\u001b[0m\n\u001b[0;32m----> 1\u001b[0;31m \u001b[0mdet1\u001b[0m\u001b[0;34m.\u001b[0m\u001b[0mtau_collect\u001b[0m\u001b[0;34m\u001b[0m\u001b[0;34m\u001b[0m\u001b[0m\n\u001b[0m",
      "\u001b[0;31mAttributeError\u001b[0m: 'Detector' object has no attribute 'tau_collect'"
     ]
    }
   ],
   "source": [
    "det1.tau_collect"
   ]
  },
  {
   "cell_type": "markdown",
   "metadata": {},
   "source": [
    "### Plots"
   ]
  },
  {
   "cell_type": "code",
   "execution_count": 6,
   "metadata": {},
   "outputs": [
    {
     "data": {
      "text/plain": [
       "(<Figure size 486x320.76 with 2 Axes>,\n",
       " <matplotlib.axes._subplots.AxesSubplot at 0x7fb302cb4580>)"
      ]
     },
     "execution_count": 6,
     "metadata": {},
     "output_type": "execute_result"
    },
    {
     "data": {
      "image/png": "[encoded data removed]",
      "text/plain": [
       "<Figure size 486x320.76 with 2 Axes>"
      ]
     },
     "metadata": {
      "needs_background": "light"
     },
     "output_type": "display_data"
    },
    {
     "data": {
      "image/png": "[encoded data removed]",
      "text/plain": [
       "<Figure size 486x320.76 with 2 Axes>"
      ]
     },
     "metadata": {
      "needs_background": "light"
     },
     "output_type": "display_data"
    },
    {
     "data": {
      "image/png": "[encoded data removed]",
      "text/plain": [
       "<Figure size 486x320.76 with 2 Axes>"
      ]
     },
     "metadata": {
      "needs_background": "light"
     },
     "output_type": "display_data"
    },
    {
     "data": {
      "image/png": "[encoded data removed]",
      "text/plain": [
       "<Figure size 486x320.76 with 2 Axes>"
      ]
     },
     "metadata": {
      "needs_background": "light"
     },
     "output_type": "display_data"
    }
   ],
   "source": [
    "n = 25\n",
    "\n",
    "l = np.linspace(30e-6, 120e-6, n)\n",
    "l_f = np.linspace(50e-6, 120e-6, n)\n",
    "l_overlap = np.linspace(8e-6, 15e-6, n)\n",
    "\n",
    "plot.plot_loverlap_vs_lfin(l_overlap, l_f, det1, val='energy')\n",
    "plot.plot_ltes_vs_lfin(l, l_f, det1, val='energy')\n",
    "plot.plot_ltes_vs_loverlap(l, l_overlap, det1, val='energy')\n",
    "\n",
    "\n",
    "plot.plot_ltes_vs_lfin(l, l_f, det1, val='al')\n"
   ]
  },
  {
   "cell_type": "markdown",
   "metadata": {},
   "source": [
    "### 2 channel device"
   ]
  },
  {
   "cell_type": "code",
   "execution_count": 3,
   "metadata": {},
   "outputs": [
    {
     "name": "stdout",
     "output_type": "stream",
     "text": [
      "Effective W/Al volume = 0.13\n",
      "resolution: 105.5 [meV]\n",
      "TES Length = 38.3 [μm]\n",
      "Overlap Legth = 23.7 [μm]\n",
      "Fin Length = 50.5 [μm]\n",
      "Fin Height = 0.6 [μm]\n",
      "N Fins = 4\n",
      "Total Al surface coverage = 1.000 [%]\n",
      "Absolute phonon collection energy efficiency = 28.84 [%]\n",
      "Number of TESs = 105\n",
      "Rn = 350.0 [mOhms]\n",
      "Close Packed: False\n",
      "Phase margin = 624.5 [%] (phase_sep_length  - tes_length )/tes_length )\n",
      "---------------------------------\n",
      "\n",
      "\n",
      "Effective W/Al volume = 0.45\n",
      "resolution: 124.3 [meV]\n",
      "TES Length = 39.0 [μm]\n",
      "Overlap Legth = 8.0 [μm]\n",
      "Fin Length = 49.7 [μm]\n",
      "Fin Height = 0.6 [μm]\n",
      "N Fins = 4\n",
      "Total Al surface coverage = 1.002 [%]\n",
      "Absolute phonon collection energy efficiency = 21.16 [%]\n",
      "Number of TESs = 108\n",
      "Rn = 350.0 [mOhms]\n",
      "Close Packed: False\n",
      "Phase margin = 716.1 [%] (phase_sep_length  - tes_length )/tes_length )\n",
      "---------------------------------\n",
      "\n",
      "\n"
     ]
    }
   ],
   "source": [
    "desired_coverage = 0.01\n",
    "\n",
    "l_tes0 = 100e-6\n",
    "l_tes_bnds = [5e-6, 300e-6]\n",
    "l_overlap0 = 10e-6\n",
    "l_overlap_bnds = [5e-06, 40e-6]\n",
    "l_fin0 = 100e-6\n",
    "l_fin_bnds = [25e-6, 500e-6]\n",
    "n_fin0 = 4\n",
    "n_fin_bnds = [2,6]\n",
    "\n",
    "res_n = 350e-3\n",
    "rp = 2e-3\n",
    "ahole = 4.9e-11\n",
    "\n",
    "\n",
    "bounds=[l_tes_bnds,l_overlap_bnds ,l_fin_bnds , n_fin_bnds]\n",
    "fixrn=True\n",
    "\n",
    "veff_WAloverlap=.13 # theoretical\n",
    "print(f'Effective W/Al volume = {veff_WAloverlap}')\n",
    "det_opt_1, eres, params = optimize.optimize_detector( tes_length0=l_tes0,\n",
    "                                                    tes_l_overlap0=l_overlap0,\n",
    "                                                    l_fin0=l_fin0,\n",
    "                                                    n_fin0=n_fin0,\n",
    "                                                    per_Al = desired_coverage,   \n",
    "                                                    fixrn=fixrn,\n",
    "                                                    #tes_width=w,\n",
    "                                                    abs_type=\"Si\", \n",
    "                                                    abs_shape=\"square\", \n",
    "                                                    abs_height=1e-3, \n",
    "                                                    abs_width=1e-2, \n",
    "                                                    w_safety=3e-3,\n",
    "                                                    sigma=220000000.0,\n",
    "                                                    rn=res_n,\n",
    "                                                    rp=rp,\n",
    "                                                    L_tot=5e-08,\n",
    "                                                    ahole=ahole, \n",
    "                                                    con_type='ellipse',\n",
    "                                                    veff_WAloverlap=veff_WAloverlap,\n",
    "                                                    n_channel=2,\n",
    "                                                     bounds = bounds)\n",
    "\n",
    "veff_WAloverlap=.45 # measured\n",
    "print(f'Effective W/Al volume = {veff_WAloverlap}')\n",
    "det_opt_1, eres, params = optimize.optimize_detector( tes_length0=l_tes0,\n",
    "                                                    tes_l_overlap0=l_overlap0,\n",
    "                                                    l_fin0=l_fin0,\n",
    "                                                    n_fin0=n_fin0,\n",
    "                                                    per_Al = desired_coverage,   \n",
    "                                                    fixrn=fixrn,\n",
    "                                                    #tes_width=w,\n",
    "                                                    abs_type=\"Si\", \n",
    "                                                    abs_shape=\"square\", \n",
    "                                                    abs_height=1e-3, \n",
    "                                                    abs_width=1e-2, \n",
    "                                                    w_safety=3e-3,\n",
    "                                                    sigma=220000000.0,\n",
    "                                                    rn=res_n,\n",
    "                                                    rp=rp,\n",
    "                                                    L_tot=5e-08,\n",
    "                                                    ahole=ahole, \n",
    "                                                    con_type='ellipse',\n",
    "                                                    veff_WAloverlap=veff_WAloverlap,\n",
    "                                                     n_channel=2,\n",
    "                                                    bounds = bounds)\n"
   ]
  },
  {
   "cell_type": "code",
   "execution_count": null,
   "metadata": {},
   "outputs": [],
   "source": []
  }
 ],
 "metadata": {
  "kernelspec": {
   "display_name": "Python 3",
   "language": "python",
   "name": "python3"
  },
  "language_info": {
   "codemirror_mode": {
    "name": "ipython",
    "version": 3
   },
   "file_extension": ".py",
   "mimetype": "text/x-python",
   "name": "python",
   "nbconvert_exporter": "python",
   "pygments_lexer": "ipython3",
   "version": "3.8.3"
  }
 },
 "nbformat": 4,
 "nbformat_minor": 4
}
