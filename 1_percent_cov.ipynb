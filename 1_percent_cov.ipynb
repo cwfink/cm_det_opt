{
 "cells": [
  {
   "cell_type": "code",
   "execution_count": 1,
   "metadata": {},
   "outputs": [],
   "source": [
    "import numpy as np\n",
    "import darkopt as dark # can import either entire package\n",
    "from darkopt import materials, optimize # or import submodules seperately \n",
    "import darkopt.plotting as plot"
   ]
  },
  {
   "cell_type": "markdown",
   "metadata": {},
   "source": [
    "### Optimize 1% coverage device"
   ]
  },
  {
   "cell_type": "code",
   "execution_count": 30,
   "metadata": {},
   "outputs": [
    {
     "name": "stdout",
     "output_type": "stream",
     "text": [
      "resolution: 224.0 [meV]\n",
      "TES Length = 60.0 [μm]\n",
      "Overlap Legth = 15.3 [μm]\n",
      "Fin Length = 90.4 [μm]\n",
      "Fin Height = 0.6 [μm]\n",
      "N Fins = 4\n",
      "Total Al surface coverage = 1.000 [%]\n",
      "Absolute phonon collection energy efficiency = 25.64 [%]\n",
      "Number of TESs = 181\n",
      "Rn = 320.0 [mOhms]\n",
      "Close Packed: False\n",
      "---------------------------------\n",
      "Phase margin = 492.9 [%] (phase_sep_legth - tes_legnth)/tes_legnth)\n"
     ]
    }
   ],
   "source": [
    "desired_coverage = 0.01\n",
    "\n",
    "l_tes0 = 100e-6\n",
    "l_tes_bnds = [5e-6, 300e-6]\n",
    "l_overlap0 = 10e-6\n",
    "l_overlap_bnds = [5e-06, 40e-6]\n",
    "l_fin0 = 100e-6\n",
    "l_fin_bnds = [25e-6, 500e-6]\n",
    "n_fin0 = 4\n",
    "n_fin_bnds = [2,6]\n",
    "\n",
    "res_n = 320e-3\n",
    "rp = 2e-3\n",
    "ahole = 4.9e-11\n",
    "\n",
    "bounds=[l_tes_bnds,l_overlap_bnds ,l_fin_bnds , n_fin_bnds]\n",
    "fixrn=True\n",
    "\n",
    "det_opt_1, eres, params = optimize.optimize_detector( tes_length0=l_tes0,\n",
    "                                                    tes_l_overlap0=l_overlap0,\n",
    "                                                    l_fin0=l_fin0,\n",
    "                                                    n_fin0=n_fin0,\n",
    "                                                    per_Al = desired_coverage,   \n",
    "                                                    fixrn=fixrn,\n",
    "                                                    #tes_width=w,\n",
    "                                                    abs_type=\"Si\", \n",
    "                                                    abs_shape=\"cube\", \n",
    "                                                    abs_height=1e-2, \n",
    "                                                    abs_width=1e-2, \n",
    "                                                    w_safety=3e-3,\n",
    "                                                    sigma=220000000.0,\n",
    "                                                    rn=res_n,\n",
    "                                                    rp=rp,\n",
    "                                                    L_tot=5e-08,\n",
    "                                                    ahole=ahole, \n",
    "                                                    con_type='ellipse',\n",
    "                                                    veff_WAloverlap=.13,\n",
    "                                                    bounds = bounds)"
   ]
  },
  {
   "cell_type": "markdown",
   "metadata": {},
   "source": [
    "### Compare to Matt's optimum values"
   ]
  },
  {
   "cell_type": "code",
   "execution_count": 32,
   "metadata": {},
   "outputs": [
    {
     "name": "stdout",
     "output_type": "stream",
     "text": [
      "0.2152272164187309\n",
      "---------------- DETECTOR PARAMETERS ----------------\n",
      "nP =  1\n",
      "SAactive =  5.874321123519332e-06\n",
      "fSA_active =  0.009790535205865553\n",
      "lcell =  0.00038490017945975053\n",
      "SApassive =  4.2063619381653054e-07\n",
      "fraction total Al cov =  0.010491595528893104\n",
      "fSA_passive =  0.0007010603230275509\n",
      "Alignment_area =  1.0385999999999999e-07\n",
      "fSA_QPabsb =  0.010491595528893104\n",
      "ePcollect =  0.933178864825957\n",
      "tau_pabsb =  0.00013955445326783905\n",
      "w_pabsb =  7165.661693939325\n",
      "eE156 =  0.869\n",
      "QP_eff =  0.45843847779328106\n",
      "eEabsb =  0.19331656781965656\n",
      "Kpb =  0.000155\n",
      "nKpb =  4\n",
      "NQET.TES =  108\n",
      "total_L =  5e-08\n",
      "------------------------------------------------\n",
      "\n"
     ]
    },
    {
     "data": {
      "text/plain": [
       "(None, False)"
      ]
     },
     "execution_count": 32,
     "metadata": {},
     "output_type": "execute_result"
    }
   ],
   "source": [
    "# Set some initial parameters\n",
    "l = 50e-6 \n",
    "w = 3.5e-06\n",
    "l_overlap = 15e-6\n",
    "n_fins = 4\n",
    "sigma = 220000000.0\n",
    "t0 = 40e-3 #41.5e-3\n",
    "res_n = 320e-3\n",
    "con_type= 'ellipse'\n",
    "#con_type= 'modern'\n",
    "l_f = 125e-6\n",
    "h_fin = 600e-6\n",
    "ahole = 4.9e-11\n",
    "\n",
    "# create absorber \n",
    "absorber = dark.Absorber(name=\"Si\", \n",
    "                         shape= \"cube\",\n",
    "                         height= 1e-3, \n",
    "                         width=1e-2,  \n",
    "                         w_safety=3e-3)\n",
    "# create tes\n",
    "tes = dark.TES(length=l,\n",
    "               width=w, \n",
    "               l_overlap = l_overlap,\n",
    "               n_fin=n_fins,\n",
    "               sigma=sigma,\n",
    "               rn=res_n,\n",
    "               rsh = 5e-3,\n",
    "               rp = rp,   \n",
    "               L_tot= 5e-08, \n",
    "               material=materials.TESMaterial(Tc=t0),\n",
    "               con_type=con_type, \n",
    "               operating_point=.35,\n",
    "               veff_WAloverlap=.13)#0.45\n",
    "      \n",
    "\n",
    "# create qet\n",
    "qet = dark.QET(l_fin=l_f, \n",
    "               h_fin=h_fin, \n",
    "               TES=tes, \n",
    "               ahole=ahole, \n",
    "               type_qp_eff=0, )\n",
    "\n",
    "# create detector\n",
    "det = dark.Detector(absorber, qet)\n",
    "print(det.calc_res())\n",
    "det.print(), det._close_packed"
   ]
  },
  {
   "cell_type": "markdown",
   "metadata": {},
   "source": [
    "### TODO\n",
    "\n",
    "\n",
    "* add in bonding pad area\n",
    "* check how bias rail areas are calculated\n"
   ]
  },
  {
   "cell_type": "code",
   "execution_count": null,
   "metadata": {},
   "outputs": [],
   "source": []
  }
 ],
 "metadata": {
  "kernelspec": {
   "display_name": "Python 3",
   "language": "python",
   "name": "python3"
  },
  "language_info": {
   "codemirror_mode": {
    "name": "ipython",
    "version": 3
   },
   "file_extension": ".py",
   "mimetype": "text/x-python",
   "name": "python",
   "nbconvert_exporter": "python",
   "pygments_lexer": "ipython3",
   "version": "3.8.3"
  }
 },
 "nbformat": 4,
 "nbformat_minor": 4
}
